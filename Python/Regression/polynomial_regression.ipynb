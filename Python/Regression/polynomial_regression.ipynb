{
  "nbformat": 4,
  "nbformat_minor": 0,
  "metadata": {
    "colab": {
      "provenance": [],
      "include_colab_link": true
    },
    "kernelspec": {
      "name": "python3",
      "display_name": "Python 3"
    }
  },
  "cells": [
    {
      "cell_type": "markdown",
      "metadata": {
        "id": "view-in-github",
        "colab_type": "text"
      },
      "source": [
        "<a href=\"https://colab.research.google.com/github/kevinegan31/Udemy_Machnine_Learning_A-Z/blob/main/Python/Regression/polynomial_regression.ipynb\" target=\"_parent\"><img src=\"https://colab.research.google.com/assets/colab-badge.svg\" alt=\"Open In Colab\"/></a>"
      ]
    },
    {
      "cell_type": "markdown",
      "metadata": {
        "id": "vN99YjPTDena"
      },
      "source": [
        "# Polynomial Regression"
      ]
    },
    {
      "cell_type": "markdown",
      "metadata": {
        "id": "ZIx_naXnDyHd"
      },
      "source": [
        "## Importing the libraries"
      ]
    },
    {
      "cell_type": "code",
      "metadata": {
        "id": "FjnmdyPLD2tS"
      },
      "source": [
        "import numpy as np\n",
        "import matplotlib.pyplot as plt\n",
        "import pandas as pd"
      ],
      "execution_count": 3,
      "outputs": []
    },
    {
      "cell_type": "markdown",
      "metadata": {
        "id": "6c8YExmOD5x5"
      },
      "source": [
        "## Importing the dataset"
      ]
    },
    {
      "cell_type": "code",
      "metadata": {
        "id": "nQOdXhjXD_AE"
      },
      "source": [
        "dataset = pd.read_csv('Position_Salaries.csv')\n",
        "X = dataset.iloc[:,1:-1].values # iloc - locates indices for the data. Get values of the data so now it is an array\n",
        "y = dataset.iloc[:,-1].values"
      ],
      "execution_count": 14,
      "outputs": []
    },
    {
      "cell_type": "code",
      "source": [
        "print(X)"
      ],
      "metadata": {
        "colab": {
          "base_uri": "https://localhost:8080/"
        },
        "id": "OUZD0y_mWAd1",
        "outputId": "4f874f75-e170-4122-cfc9-4751cb3b3455"
      },
      "execution_count": 15,
      "outputs": [
        {
          "output_type": "stream",
          "name": "stdout",
          "text": [
            "[[ 1]\n",
            " [ 2]\n",
            " [ 3]\n",
            " [ 4]\n",
            " [ 5]\n",
            " [ 6]\n",
            " [ 7]\n",
            " [ 8]\n",
            " [ 9]\n",
            " [10]]\n"
          ]
        }
      ]
    },
    {
      "cell_type": "markdown",
      "metadata": {
        "id": "Le8SEL-YEOLb"
      },
      "source": [
        "## Training the Linear Regression model on the whole dataset"
      ]
    },
    {
      "cell_type": "code",
      "metadata": {
        "id": "2eZ4xxbKEcBk",
        "colab": {
          "base_uri": "https://localhost:8080/"
        },
        "outputId": "1fc2df32-5550-42d5-ba71-ce8e58c4e5f9"
      },
      "source": [
        "from sklearn.linear_model import LinearRegression\n",
        "lin_reg = LinearRegression()\n",
        "lin_reg.fit(X, y)"
      ],
      "execution_count": 16,
      "outputs": [
        {
          "output_type": "execute_result",
          "data": {
            "text/plain": [
              "LinearRegression()"
            ]
          },
          "metadata": {},
          "execution_count": 16
        }
      ]
    },
    {
      "cell_type": "markdown",
      "metadata": {
        "id": "Rb5nWuSHEfBV"
      },
      "source": [
        "## Training the Polynomial Regression model on the whole dataset"
      ]
    },
    {
      "cell_type": "code",
      "metadata": {
        "id": "HYplp4pTEm0O",
        "outputId": "2a3cb366-3248-435c-bf4b-fdb795d74553",
        "colab": {
          "base_uri": "https://localhost:8080/"
        }
      },
      "source": [
        "from sklearn.preprocessing import PolynomialFeatures\n",
        "# Try 2 initially, will eventually try 3 and 4\n",
        "poly = PolynomialFeatures(degree=2)\n",
        "poly_features = poly.fit_transform(X)\n",
        "lin_reg_2 = LinearRegression()\n",
        "lin_reg_2.fit(poly_features, y)"
      ],
      "execution_count": 18,
      "outputs": [
        {
          "output_type": "execute_result",
          "data": {
            "text/plain": [
              "LinearRegression()"
            ]
          },
          "metadata": {},
          "execution_count": 18
        }
      ]
    },
    {
      "cell_type": "markdown",
      "metadata": {
        "id": "0O8R0tzbEpvy"
      },
      "source": [
        "## Visualising the Linear Regression results"
      ]
    },
    {
      "cell_type": "code",
      "metadata": {
        "id": "dcTIBAEdEyve",
        "colab": {
          "base_uri": "https://localhost:8080/",
          "height": 295
        },
        "outputId": "880eb335-4e7d-4be3-81ed-68e79b726a23"
      },
      "source": [
        "plt.scatter(X, y, color='red')\n",
        "# calling predict on X_train just gives you predictions on that training set\n",
        "plt.plot(X, lin_reg.predict(X), color='blue')\n",
        "plt.title('Salary vs. Position Level')\n",
        "plt.xlabel('Position Level')\n",
        "plt.ylabel('Salary')\n",
        "plt.show()"
      ],
      "execution_count": 23,
      "outputs": [
        {
          "output_type": "display_data",
          "data": {
            "text/plain": [
              "<Figure size 432x288 with 1 Axes>"
            ],
            "image/png": "[encoded data removed]"
          },
          "metadata": {
            "needs_background": "light"
          }
        }
      ]
    },
    {
      "cell_type": "markdown",
      "metadata": {
        "id": "stOnSo74E52m"
      },
      "source": [
        "## Visualising the Polynomial Regression results"
      ]
    },
    {
      "cell_type": "code",
      "metadata": {
        "id": "UCOcurIQE7Zv",
        "colab": {
          "base_uri": "https://localhost:8080/",
          "height": 295
        },
        "outputId": "cfd15698-e52b-4142-a025-f406b53e19de"
      },
      "source": [
        "plt.scatter(X, y, color='red')\n",
        "# calling predict on X_train just gives you predictions on that training set\n",
        "plt.plot(X, lin_reg_2.predict(poly.fit_transform(X)), color='blue')\n",
        "plt.title('Salary vs. Job Level (Polynomial Regression d = 2)')\n",
        "plt.xlabel('Job Level')\n",
        "plt.ylabel('Salary')\n",
        "plt.show()"
      ],
      "execution_count": 28,
      "outputs": [
        {
          "output_type": "display_data",
          "data": {
            "text/plain": [
              "<Figure size 432x288 with 1 Axes>"
            ],
            "image/png": "[encoded data removed]"
          },
          "metadata": {
            "needs_background": "light"
          }
        }
      ]
    },
    {
      "cell_type": "markdown",
      "metadata": {
        "id": "U_qsAMKnE-PJ"
      },
      "source": [
        "## Visualising the Polynomial Regression results (for higher resolution and smoother curve)"
      ]
    },
    {
      "cell_type": "code",
      "metadata": {
        "id": "iE6EnC3fFClE",
        "colab": {
          "base_uri": "https://localhost:8080/",
          "height": 295
        },
        "outputId": "8f8006ad-5af3-412e-8e9c-1ddf56eb942f"
      },
      "source": [
        "from sklearn.preprocessing import PolynomialFeatures\n",
        "# Try 2 initially, will eventually try 3 and 4\n",
        "poly_3 = PolynomialFeatures(degree=3)\n",
        "poly_features_3 = poly_3.fit_transform(X)\n",
        "lin_reg_3 = LinearRegression()\n",
        "lin_reg_3.fit(poly_features_3, y)\n",
        "\n",
        "plt.scatter(X, y, color='red')\n",
        "# calling predict on X_train just gives you predictions on that training set\n",
        "plt.plot(X, lin_reg_3.predict(poly_3.fit_transform(X)), color='blue')\n",
        "plt.title('Salary vs. Job Level (Polynomial Regression d = 3)')\n",
        "plt.xlabel('Job Level')\n",
        "plt.ylabel('Salary')\n",
        "plt.show()"
      ],
      "execution_count": 30,
      "outputs": [
        {
          "output_type": "display_data",
          "data": {
            "text/plain": [
              "<Figure size 432x288 with 1 Axes>"
            ],
            "image/png": "[encoded data removed]"
          },
          "metadata": {
            "needs_background": "light"
          }
        }
      ]
    },
    {
      "cell_type": "code",
      "source": [
        "from sklearn.preprocessing import PolynomialFeatures\n",
        "# Try 2 initially, will eventually try 3 and 4\n",
        "poly_4 = PolynomialFeatures(degree=4)\n",
        "poly_features_4 = poly_4.fit_transform(X)\n",
        "lin_reg_4 = LinearRegression()\n",
        "lin_reg_4.fit(poly_features_4, y)\n",
        "\n",
        "plt.scatter(X, y, color='red')\n",
        "# calling predict on X_train just gives you predictions on that training set\n",
        "plt.plot(X, lin_reg_4.predict(poly_4.fit_transform(X)), color='blue')\n",
        "plt.title('Salary vs. Job Level (Polynomial Regression d = 4)')\n",
        "plt.xlabel('Job Level')\n",
        "plt.ylabel('Salary')\n",
        "plt.show()\n",
        "'''\n",
        "Although overfitting, we are only trying to develop a prediction for particular values,\n",
        "rather than seeing how well the model fits an entire test set\n",
        "'''"
      ],
      "metadata": {
        "colab": {
          "base_uri": "https://localhost:8080/",
          "height": 295
        },
        "id": "Y_jGgS37bgZh",
        "outputId": "c068c9e0-f23a-4422-bcc4-f130c5a4598a"
      },
      "execution_count": 32,
      "outputs": [
        {
          "output_type": "display_data",
          "data": {
            "text/plain": [
              "<Figure size 432x288 with 1 Axes>"
            ],
            "image/png": "[encoded data removed]"
          },
          "metadata": {
            "needs_background": "light"
          }
        }
      ]
    },
    {
      "cell_type": "markdown",
      "metadata": {
        "id": "diyJFZHhFFeK"
      },
      "source": [
        "## Predicting a new result with Linear Regression"
      ]
    },
    {
      "cell_type": "code",
      "metadata": {
        "id": "Blmp6Hn7FJW6",
        "colab": {
          "base_uri": "https://localhost:8080/"
        },
        "outputId": "2e61e469-696d-49dd-ad7e-5f8da74bf55a"
      },
      "source": [
        "lin_reg.predict([[6.5]])"
      ],
      "execution_count": 43,
      "outputs": [
        {
          "output_type": "execute_result",
          "data": {
            "text/plain": [
              "array([330378.78787879])"
            ]
          },
          "metadata": {},
          "execution_count": 43
        }
      ]
    },
    {
      "cell_type": "markdown",
      "metadata": {
        "id": "DW7I7ZVDFNkk"
      },
      "source": [
        "## Predicting a new result with Polynomial Regression"
      ]
    },
    {
      "cell_type": "code",
      "metadata": {
        "id": "uQmtnyTHFRGG",
        "colab": {
          "base_uri": "https://localhost:8080/"
        },
        "outputId": "544b1672-4e5c-473f-f634-0f282acbf684"
      },
      "source": [
        "# Need to fit_transform for particular prediction.\n",
        "lin_reg_4.predict(poly_4.fit_transform([[6.5]]))"
      ],
      "execution_count": 44,
      "outputs": [
        {
          "output_type": "execute_result",
          "data": {
            "text/plain": [
              "array([158862.45265155])"
            ]
          },
          "metadata": {},
          "execution_count": 44
        }
      ]
    },
    {
      "cell_type": "markdown",
      "source": [
        "This is actually quite close to what the person requested. The polynomial regression helps provide a better fit to the data."
      ],
      "metadata": {
        "id": "qawx5GWPc0bo"
      }
    },
    {
      "cell_type": "code",
      "source": [],
      "metadata": {
        "id": "n8imxyyrc5pz"
      },
      "execution_count": null,
      "outputs": []
    }
  ]
}